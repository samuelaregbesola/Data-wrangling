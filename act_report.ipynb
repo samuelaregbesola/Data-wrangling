{
 "cells": [
  {
   "cell_type": "markdown",
   "metadata": {},
   "source": [
    "# Data Insights and Visualization Report\n",
    "---"
   ]
  },
  {
   "cell_type": "markdown",
   "metadata": {},
   "source": [
    "<figure>\n",
    "    <img src=\"./dogtionary-combined.png\" alt=\"dogtionary\"/>\n",
    "    <figcaption><b>Fig. 1.</b> Dogtionary</figcaption>\n",
    "</figure>\n",
    "<br><br>\n",
    "\n",
    "\n",
    "The WeRateDogs Twitter page is a hub for dog lovers. From unconventional ratings to a lot of cute dogs, it's avery interactive account. On careful examination of some available tweets, some insights ere drawn and I would love to share these insights. \n",
    "\n",
    "\n",
    "Firstly, the dog stages as seen in the fig 1. include pupper, doggo, puppo, floofer. Of the <b> 1,655 </b> data recorded in the final dataset, only <b>257</b> stages were available. For the available stages, puppers accounted accounted for <b>67% (173)</b> of the dogs while doggos came second with <b>21% (54)</b>. Puppos and fluffers completed the set with <b>9%(22)</b> and <b>3%(8)</b> respectively\n",
    "<br><br><br> \n",
    "<figure>\n",
    "    <img  src=\"./Dog_stages.png\" alt=\"dog_stages\" width=\"300\" height=\"300\"/>\n",
    "    <center><figcaption align=\"clearfix\"><b>Fig. 2.</b> Dog stages</figcaption></center>\n",
    "</figure>\n",
    "<br><br><br>\n",
    "\n",
    "\n",
    "Secondly, the dog stages with the most interactions (i.e. favorites and retweets) were examined. Now seeing\n",
    "as the stages were uneven, the average interaction was used to determine which dogs received the most\n",
    "adoration. Puppos were showered with the most interaction, averaging close to 30,000 likes and retweets.\n",
    "Doggos were a close second, with an average of almost 27,000. Puppers received the least average interactions\n",
    "with just over 10,000 likes and retweets. Fig. 3. shows the mean interaction by dog stage.\n",
    "<br><br><br>\n",
    "<figure>\n",
    "    <img src=\"./dog_stage_total_interactions.png\" alt=\"dog_stages_interactions\" width=\"500\" height=\"500\"/>\n",
    "    <center><figcaption><b>Fig. 3.</b> Dog stages by Interactions</figcaption></center>\n",
    "</figure>\n",
    "<br><br><br>\n",
    "\n",
    "Finally, the breeds of dogs were examined. Breeds with more than 50 tweets were first identified. These\n",
    "breeds include Golden Retriever, Labrador Retriver, Pembroke, Chihuahua and Pug. Retrievers received the most\n",
    "interactions while Pugs received the least interactions.  as shown in the fig 4. below. \n",
    "<br><br><br>\n",
    "<figure>\n",
    "    <img src=\"./dog_breed_total_interactions.png\" alt=\"dog_stages_interactions\" width=\"500\" height=\"500\"/>\n",
    "    <center><figcaption><b>Fig. 4.</b> Dog breeds by interactions</figcaption></center>\n",
    "</figure>\n",
    "<br><br><br>\n",
    "\n",
    "More insights like the breeds with the highest/lowest ratings together with their visualizations, can and will be explored in the future. Thank you for reading."
   ]
  },
  {
   "cell_type": "code",
   "execution_count": null,
   "metadata": {},
   "outputs": [],
   "source": []
  }
 ],
 "metadata": {
  "kernelspec": {
   "display_name": "Python 3 (ipykernel)",
   "language": "python",
   "name": "python3"
  },
  "language_info": {
   "codemirror_mode": {
    "name": "ipython",
    "version": 3
   },
   "file_extension": ".py",
   "mimetype": "text/x-python",
   "name": "python",
   "nbconvert_exporter": "python",
   "pygments_lexer": "ipython3",
   "version": "3.9.13"
  }
 },
 "nbformat": 4,
 "nbformat_minor": 2
}
